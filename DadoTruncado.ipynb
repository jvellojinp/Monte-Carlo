{
 "cells": [
  {
   "cell_type": "code",
   "execution_count": 2,
   "id": "e1ce1361",
   "metadata": {},
   "outputs": [
    {
     "data": {
      "text/plain": [
       "[<matplotlib.lines.Line2D at 0x22967ff48b0>]"
      ]
     },
     "execution_count": 2,
     "metadata": {},
     "output_type": "execute_result"
    },
    {
     "data": {
      "image/png": "[encoded data removed]",
      "text/plain": [
       "<Figure size 432x288 with 1 Axes>"
      ]
     },
     "metadata": {
      "needs_background": "light"
     },
     "output_type": "display_data"
    }
   ],
   "source": [
    "import numpy as np\n",
    "import matplotlib as mpl\n",
    "import matplotlib.pyplot as plt\n",
    "import random as rn\n",
    "\n",
    "# dado truncado\n",
    "histogram = np.array([0]*4)\n",
    "p_f = 0.6\n",
    "p_c \n",
    "pdf = np.array([0,1/2,1/2,0])\n",
    "F = np.zeros(4)\n",
    "\n",
    "for i in range(3):\n",
    "    F[i+1] = F[i]+pdf[i+1]\n",
    "    \n",
    "N = 10000\n",
    "\n",
    "rn.seed(123)\n",
    "for i in range(N):\n",
    "\n",
    "    \n",
    "    r = rn.random()\n",
    "    for j in range(1,3):\n",
    "        if r >= F[j-1] and r < F[j]:\n",
    "            bingo = j\n",
    "            break\n",
    "    histogram[bingo]+=1\n",
    "    \n",
    "fig = plt.figure(1)\n",
    "ax = fig.add_axes([0.2,0.2,0.8,0.8])\n",
    "\n",
    "ax.set_xlabel('lado')\n",
    "ax.set_ylabel('frecuencia')\n",
    "ax.set_xlim(0,3)\n",
    "ax.set_xticks(range(0,3))\n",
    "\n",
    "x = range(4)\n",
    "plt.plot(x,histogram,ds='steps-mid')"
   ]
  },
  {
   "cell_type": "code",
   "execution_count": null,
   "id": "76b1b38d",
   "metadata": {},
   "outputs": [],
   "source": []
  }
 ],
 "metadata": {
  "kernelspec": {
   "display_name": "Python 3 (ipykernel)",
   "language": "python",
   "name": "python3"
  },
  "language_info": {
   "codemirror_mode": {
    "name": "ipython",
    "version": 3
   },
   "file_extension": ".py",
   "mimetype": "text/x-python",
   "name": "python",
   "nbconvert_exporter": "python",
   "pygments_lexer": "ipython3",
   "version": "3.9.7"
  }
 },
 "nbformat": 4,
 "nbformat_minor": 5
}
