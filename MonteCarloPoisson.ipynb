{
 "cells": [
  {
   "cell_type": "code",
   "execution_count": 2,
   "id": "46d8f715",
   "metadata": {
    "scrolled": true
   },
   "outputs": [],
   "source": [
    "import numpy as np\n",
    "import matplotlib as mpl\n",
    "import matplotlib.pyplot as plt\n",
    "import random as rn\n",
    "from scipy.stats import poisson"
   ]
  },
  {
   "cell_type": "code",
   "execution_count": 3,
   "id": "926a348b",
   "metadata": {},
   "outputs": [],
   "source": [
    "histogram = []\n",
    "poi = []\n",
    "F = []\n",
    "histogram1 = []\n",
    "histogram2 = []\n",
    "aux = []\n",
    "aux2 = []\n",
    "poicdf = []"
   ]
  },
  {
   "cell_type": "code",
   "execution_count": 4,
   "id": "806cf26f",
   "metadata": {},
   "outputs": [],
   "source": [
    "#------------------------------------------------------------\n",
    "#to get range (it could be better tho)\n",
    "#------------------------------------------------------------\n",
    "for i in range(1000):\n",
    "       aux.append(poisson.rvs(1000, size=1))\n"
   ]
  },
  {
   "cell_type": "code",
   "execution_count": 5,
   "id": "60a4d9ca",
   "metadata": {},
   "outputs": [],
   "source": [
    "#------------------------------------------------------------\n",
    "#aux2 definition\n",
    "#------------------------------------------------------------\n",
    "aux2 = poisson.rvs(1000,size=1000)"
   ]
  },
  {
   "cell_type": "code",
   "execution_count": 6,
   "id": "fa42669a",
   "metadata": {},
   "outputs": [],
   "source": [
    "#------------------------------------------------------------\n",
    "#Initialize histogram\n",
    "#------------------------------------------------------------\n",
    "\n",
    "for i in range(np.max(aux)):\n",
    "    histogram1.append(0)\n",
    "for i in range(np.max(aux2)):\n",
    "    histogram2.append(0)\n"
   ]
  },
  {
   "cell_type": "code",
   "execution_count": 7,
   "id": "9c9738a9",
   "metadata": {},
   "outputs": [],
   "source": [
    "#------------------------------------------------------------\n",
    "#Histogram\n",
    "#------------------------------------------------------------\n",
    "for i in range(1000):\n",
    "    r=aux[i]\n",
    "    for j in range(np.max(aux)):\n",
    "        if r >= j-1 and r < j:\n",
    "            bingo1 = j\n",
    "            break\n",
    "    histogram1[bingo1] += 1"
   ]
  },
  {
   "cell_type": "code",
   "execution_count": 8,
   "id": "53ac22b8",
   "metadata": {},
   "outputs": [],
   "source": [
    "#------------------------------------------------------------\n",
    "#Histogram2\n",
    "#------------------------------------------------------------\n",
    "for i in range(1000):\n",
    "    r=aux2[i]\n",
    "    for j in range(np.max(aux2)):\n",
    "        if r >= j-1 and r < j:\n",
    "            bingo2 = j\n",
    "            break\n",
    "    histogram2[bingo2] += 1"
   ]
  },
  {
   "cell_type": "code",
   "execution_count": 9,
   "id": "8aa756aa",
   "metadata": {},
   "outputs": [],
   "source": [
    "#------------------------------------------------------------\n",
    "#MonteCarlo\n",
    "#------------------------------------------------------------\n",
    "for i in range(0,1200):\n",
    "    poi.append(poisson.pmf(i,1000))\n",
    "for i in range(0,1200):\n",
    "    poicdf.append(poisson.cdf(i,1000))\n",
    "\n",
    "histogram = list(np.zeros(len(range(1, len(poi) - 1))))\n",
    "\n",
    "rn.seed(123456789)\n",
    "for i in range(1000):\n",
    "        \n",
    "    r = rn.uniform(0, 1)\n",
    "    for j in range(1, len(poi) - 1):\n",
    "        if r >= poicdf[j-1] and r < poicdf[j]:\n",
    "            bingo = j\n",
    "            break\n",
    "    histogram[bingo] += 1 "
   ]
  },
  {
   "cell_type": "code",
   "execution_count": 13,
   "id": "8c867495",
   "metadata": {},
   "outputs": [
    {
     "data": {
      "image/png": "[encoded data removed]",
      "text/plain": [
       "<Figure size 432x288 with 1 Axes>"
      ]
     },
     "metadata": {
      "needs_background": "light"
     },
     "output_type": "display_data"
    }
   ],
   "source": [
    "#------------------------------------------------------------\n",
    "#Plot settings\n",
    "#------------------------------------------------------------\n",
    "plt.figure(1)\n",
    "x1 = np.arange(0,np.max(aux),1)\n",
    "plt.xlim(1000-(np.max(aux)-1000),np.max(aux))\n",
    "plt.plot(x1,1000*poisson.pmf(x1,1000),alpha=1,color='black',linewidth=2)\n",
    "plt.plot(range(np.max(aux)),histogram1,color='red',drawstyle=\"steps-mid\",linewidth=0.5,alpha=0.5)\n",
    "\n",
    "x2 = np.arange(0,np.max(aux2),1)\n",
    "plt.xlim(1000-(np.max(aux2)-1000),np.max(aux2))\n",
    "plt.plot(x2,1000*poisson.pmf(x2,1000),alpha=1,color='black',linewidth=2)\n",
    "plt.plot(range(np.max(aux2)),histogram2,color='blue',drawstyle=\"steps-mid\",linewidth=0.5,alpha=0.5)\n",
    "plt.show()"
   ]
  },
  {
   "cell_type": "code",
   "execution_count": null,
   "id": "c8f25d3c",
   "metadata": {},
   "outputs": [],
   "source": []
  }
 ],
 "metadata": {
  "kernelspec": {
   "display_name": "Python 3 (ipykernel)",
   "language": "python",
   "name": "python3"
  },
  "language_info": {
   "codemirror_mode": {
    "name": "ipython",
    "version": 3
   },
   "file_extension": ".py",
   "mimetype": "text/x-python",
   "name": "python",
   "nbconvert_exporter": "python",
   "pygments_lexer": "ipython3",
   "version": "3.9.7"
  }
 },
 "nbformat": 4,
 "nbformat_minor": 5
}
